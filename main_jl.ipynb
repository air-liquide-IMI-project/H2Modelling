{
 "cells": [
  {
   "cell_type": "code",
   "execution_count": 21,
   "metadata": {},
   "outputs": [
    {
     "data": {
      "text/plain": [
       "solveFixedProdStorage"
      ]
     },
     "metadata": {},
     "output_type": "display_data"
    }
   ],
   "source": [
    "GC.gc() # Clear up the memory when doing a \"run all\" in the notebook\n",
    "\n",
    "include(\"src/load_profiles.jl\")\n",
    "include(\"src/default_values.jl\")\n",
    "include(\"src/solverFixedProdStorage.jl\")"
   ]
  },
  {
   "cell_type": "code",
   "execution_count": 22,
   "metadata": {},
   "outputs": [
    {
     "data": {
      "text/plain": [
       "(Dict{Any, Any}(2017 => [DateTime(\"2017-01-01T00:00:00\"), DateTime(\"2017-01-01T01:00:00\"), DateTime(\"2017-01-01T02:00:00\"), DateTime(\"2017-01-01T03:00:00\"), DateTime(\"2017-01-01T04:00:00\"), DateTime(\"2017-01-01T05:00:00\"), DateTime(\"2017-01-01T06:00:00\"), DateTime(\"2017-01-01T07:00:00\"), DateTime(\"2017-01-01T08:00:00\"), DateTime(\"2017-01-01T09:00:00\")  …  DateTime(\"2017-12-31T14:00:00\"), DateTime(\"2017-12-31T15:00:00\"), DateTime(\"2017-12-31T16:00:00\"), DateTime(\"2017-12-31T17:00:00\"), DateTime(\"2017-12-31T18:00:00\"), DateTime(\"2017-12-31T19:00:00\"), DateTime(\"2017-12-31T20:00:00\"), DateTime(\"2017-12-31T21:00:00\"), DateTime(\"2017-12-31T22:00:00\"), DateTime(\"2017-12-31T23:00:00\")], 2016 => [DateTime(\"2016-01-01T00:00:00\"), DateTime(\"2016-01-01T01:00:00\"), DateTime(\"2016-01-01T02:00:00\"), DateTime(\"2016-01-01T03:00:00\"), DateTime(\"2016-01-01T04:00:00\"), DateTime(\"2016-01-01T05:00:00\"), DateTime(\"2016-01-01T06:00:00\"), DateTime(\"2016-01-01T07:00:00\"), DateTime(\"2016-01-01T08:00:00\"), DateTime(\"2016-01-01T09:00:00\")  …  DateTime(\"2016-12-31T14:00:00\"), DateTime(\"2016-12-31T15:00:00\"), DateTime(\"2016-12-31T16:00:00\"), DateTime(\"2016-12-31T17:00:00\"), DateTime(\"2016-12-31T18:00:00\"), DateTime(\"2016-12-31T19:00:00\"), DateTime(\"2016-12-31T20:00:00\"), DateTime(\"2016-12-31T21:00:00\"), DateTime(\"2016-12-31T22:00:00\"), DateTime(\"2016-12-31T23:00:00\")], 2015 => [DateTime(\"2015-01-01T00:00:00\"), DateTime(\"2015-01-01T01:00:00\"), DateTime(\"2015-01-01T02:00:00\"), DateTime(\"2015-01-01T03:00:00\"), DateTime(\"2015-01-01T04:00:00\"), DateTime(\"2015-01-01T05:00:00\"), DateTime(\"2015-01-01T06:00:00\"), DateTime(\"2015-01-01T07:00:00\"), DateTime(\"2015-01-01T08:00:00\"), DateTime(\"2015-01-01T09:00:00\")  …  DateTime(\"2015-12-31T14:00:00\"), DateTime(\"2015-12-31T15:00:00\"), DateTime(\"2015-12-31T16:00:00\"), DateTime(\"2015-12-31T17:00:00\"), DateTime(\"2015-12-31T18:00:00\"), DateTime(\"2015-12-31T19:00:00\"), DateTime(\"2015-12-31T20:00:00\"), DateTime(\"2015-12-31T21:00:00\"), DateTime(\"2015-12-31T22:00:00\"), DateTime(\"2015-12-31T23:00:00\")]), Dict{Any, Any}(2017 => [0.3134, 0.3076, 0.3005, 0.3032, 0.3112, 0.3244, 0.3244, 0.3226, 0.3206, 0.2959  …  0.6533, 0.643, 0.6201, 0.5763, 0.5519, 0.5352, 0.5394, 0.5459, 0.5503, 0.568], 2016 => [0.1965, 0.1957, 0.1934, 0.19, 0.1676, 0.1506, 0.1288, 0.1064, 0.0855, 0.0636  …  0.2528, 0.27, 0.287, 0.3026, 0.31, 0.3122, 0.3133, 0.3029, 0.3071, 0.3146], 2015 => [0.2345, 0.2409, 0.2413, 0.2438, 0.2456, 0.2578, 0.2749, 0.2716, 0.2668, 0.2807  …  0.247, 0.235, 0.2296, 0.2244, 0.219, 0.2026, 0.1977, 0.2055, 0.2056, 0.1978]), Dict{Any, Any}(2017 => [0.0, 0.0, 0.0, 0.0, 0.0, 0.0, 0.0, 0.0068, 0.0513, 0.1152  …  0.0301, 0.0019, 0.0, 0.0, 0.0, 0.0, 0.0, 0.0, 0.0, 0.0], 2016 => [0.0, 0.0, 0.0, 0.0, 0.0, 0.0, 0.0, 0.0035, 0.0246, 0.0644  …  0.0355, 0.0017, 0.0, 0.0, 0.0, 0.0, 0.0, 0.0, 0.0, 0.0], 2015 => [0.0, 0.0, 0.0, 0.0, 0.0, 0.0, 0.0, 0.0014, 0.0205, 0.0561  …  0.0211, 0.0015, 0.0, 0.0, 0.0, 0.0, 0.0, 0.0, 0.0, 0.0]))"
      ]
     },
     "metadata": {},
     "output_type": "display_data"
    }
   ],
   "source": [
    "filename = \"profiles.csv\"\n",
    "time_profiles, wind_profiles, solar_profiles = Dict(), Dict(), Dict()\n",
    "time_profiles, wind_profiles, solar_profiles = load_profiles(filename)\n"
   ]
  },
  {
   "cell_type": "code",
   "execution_count": 23,
   "metadata": {},
   "outputs": [
    {
     "data": {
      "text/plain": [
       "126.3580398331975"
      ]
     },
     "metadata": {},
     "output_type": "display_data"
    }
   ],
   "source": [
    "# We use the default values for now\n",
    "D = 1000.\n",
    "BAT_SIZE = 400.\n",
    "TANK_SIZE = 500.\n",
    "time_index = wind_profiles[2015]\n",
    "wind_profile = wind_profiles[2015]\n",
    "solar_profile = solar_profiles[2015]\n",
    "# We decide on a mix of wind and solar\n",
    "# For example, 25% of the energy comes from solar and 75% from wind\n",
    "wind_share = 0.75\n",
    "Total_energy_needed = D * length(wind_profile) * EELEC * 1.05 # in MWh, with a 5% safety margin\n",
    "wind_capa = Total_energy_needed * wind_share / sum(wind_profile)\n",
    "solar_capa = Total_energy_needed * (1 - wind_share) / sum(solar_profile)"
   ]
  },
  {
   "cell_type": "code",
   "execution_count": 24,
   "metadata": {},
   "outputs": [
    {
     "name": "stdout",
     "output_type": "stream",
     "text": [
      "Running HiGHS 1.6.0: Copyright (c) 2023 HiGHS under MIT licence terms\n",
      "Presolving model\n",
      "26278 rows, 52558 cols, 87594 nonzeros\n",
      "17518 rows, 43797 cols, 70072 nonzeros\n",
      "17510 rows, 43771 cols, 70029 nonzeros\n",
      "Presolve : Reductions: rows 17510(-61335); columns 43771(-26312); elements 70029(-105176)\n",
      "Solving the presolved LP\n",
      "Using EKK dual simplex solver - serial\n",
      "  Iteration        Objective     Infeasibilities num(sum)\n",
      "          0     1.0913514367e+05 Pr: 17510(1.73062e+06) 0s\n",
      "      22208     1.7120321873e+08 Pr: 0(0); Du: 0(4.88853e-12) 0s\n",
      "Solving the original LP from the solution after postsolve\n",
      "Model   status      : Optimal\n",
      "Simplex   iterations: 22208\n",
      "Objective value     :  1.7120321873e+08\n",
      "HiGHS run time      :          0.60\n"
     ]
    },
    {
     "data": {
      "text/plain": [
       "Dict{String, Any} with 10 entries:\n",
       "  \"flowH2\"         => [-0.0, 131.594, -131.594, -0.0, 82.8854, -72.213, -10.672…\n",
       "  \"curtail\"        => [0.0, 0.0, 0.0, 0.0, 0.0, 0.0, 0.0, 0.0, 0.0, 0.0  …  0.0…\n",
       "  \"flowBat\"        => [-0.0, -0.0, -0.0, -0.0, -0.0, -0.0, -0.0, -0.0, 0.59918,…\n",
       "  \"charge\"         => [-0.0, 0.0, 0.0, 0.0, 0.0, 0.0, 0.0, 0.0, 0.0, 0.59918  ……\n",
       "  \"elecGrid\"       => [7.80332, 13.2314, 0.0, 6.12985, 9.95022, 0.0, 0.0, 0.950…\n",
       "  \"stock\"          => [-0.0, 0.0, 131.594, 0.0, 0.0, 82.8854, 10.6724, 0.0, 0.0…\n",
       "  \"elecPPA\"        => [42.1967, 43.3483, 43.4203, 43.8701, 44.194, 46.3894, 49.…\n",
       "  \"prod\"           => [1000.0, 1131.59, 868.406, 1000.0, 1082.89, 927.787, 989.…\n",
       "  \"operating_cost\" => 1.71203e8\n",
       "  \"storage_cost\"   => 223500.0"
      ]
     },
     "metadata": {},
     "output_type": "display_data"
    }
   ],
   "source": [
    "output = solveFixedProdStorage(wind_capa, solar_capa, wind_profile, solar_profile, BAT_SIZE, TANK_SIZE, D)"
   ]
  },
  {
   "cell_type": "code",
   "execution_count": 25,
   "metadata": {},
   "outputs": [
    {
     "data": {
      "text/plain": [
       "Dict{String, Any} with 10 entries:\n",
       "  \"flowH2\"         => [-0.0, 131.594, -131.594, -0.0, 82.8854, -72.213, -10.672…\n",
       "  \"curtail\"        => [0.0, 0.0, 0.0, 0.0, 0.0, 0.0, 0.0, 0.0, 0.0, 0.0  …  0.0…\n",
       "  \"flowBat\"        => [-0.0, -0.0, -0.0, -0.0, -0.0, -0.0, -0.0, -0.0, 0.59918,…\n",
       "  \"charge\"         => [-0.0, 0.0, 0.0, 0.0, 0.0, 0.0, 0.0, 0.0, 0.0, 0.59918  ……\n",
       "  \"elecGrid\"       => [7.80332, 13.2314, 0.0, 6.12985, 9.95022, 0.0, 0.0, 0.950…\n",
       "  \"stock\"          => [-0.0, 0.0, 131.594, 0.0, 0.0, 82.8854, 10.6724, 0.0, 0.0…\n",
       "  \"elecPPA\"        => [42.1967, 43.3483, 43.4203, 43.8701, 44.194, 46.3894, 49.…\n",
       "  \"prod\"           => [1000.0, 1131.59, 868.406, 1000.0, 1082.89, 927.787, 989.…\n",
       "  \"operating_cost\" => 1.71203e8\n",
       "  \"storage_cost\"   => 223500.0"
      ]
     },
     "metadata": {},
     "output_type": "display_data"
    }
   ],
   "source": [
    "output"
   ]
  }
 ],
 "metadata": {
  "kernelspec": {
   "display_name": "Julia 1.9.4",
   "language": "julia",
   "name": "julia-1.9"
  },
  "language_info": {
   "file_extension": ".jl",
   "mimetype": "application/julia",
   "name": "julia",
   "version": "1.9.4"
  }
 },
 "nbformat": 4,
 "nbformat_minor": 2
}
