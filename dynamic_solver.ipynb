{
 "cells": [
  {
   "cell_type": "code",
   "execution_count": 1,
   "metadata": {},
   "outputs": [
    {
     "data": {
      "text/plain": [
       "\"profiles.csv\""
      ]
     },
     "metadata": {},
     "output_type": "display_data"
    }
   ],
   "source": [
    "using Plots\n",
    "\n",
    "include(\"src/loader.jl\")\n",
    "include(\"src/solver.jl\")\n",
    "\n",
    "filename = \"profiles.csv\""
   ]
  },
  {
   "cell_type": "code",
   "execution_count": 2,
   "metadata": {},
   "outputs": [],
   "source": [
    "time_by_week, wind_by_week, solar_by_week = load_by_periods(filename, 7 * 24);"
   ]
  },
  {
   "cell_type": "code",
   "execution_count": null,
   "metadata": {},
   "outputs": [],
   "source": [
    "# Default values\n",
    "DEMAND = 1000. # Kg of H2\n",
    "# Battery parameters\n",
    "EBAT = 0.9 # per month discharge\n",
    "FBAT = 100. # MW\n",
    "COST_BAT = 250000 * 0.0002 # € / MWh\n",
    "# Electrolyzer parameters\n",
    "EELEC = 0.050 # MWh / Kg\n",
    "COST_ELEC =  1200000 * 0.0004 # € / MW\n",
    "CAPA_ELEC_UPPER = 1000 # MW\n",
    "# Tank parameters\n",
    "COST_TANK = 407. # € / Kg\n",
    "# Grid parameters\n",
    "PRICE_GRID = 1000. # € / MWh\n",
    "PRICE_CURTAILING = 750. # € / MWh;\n",
    "PRICE_PENALITY = 0 # € / times changed\n",
    "PRICE_PROD_CHANGE = 1 # € / kg of change in production level\n",
    "# Renewable pricing, from https://atb.nrel.gov/electricity/2022/index\n",
    "# For now : 20 year lifespan, no discount rate + O&M cost per year\n",
    "COST_WIND = 1352 * 1000 / 20 + 43 * 1000 # € / MW\n",
    "COST_SOLAR = 1233 * 1000 / 20 + 23 * 1000 # € / MW\n",
    "# CHOSEN CAPACITIES\n",
    "ELECTRO_CAPA = 1720 * EELEC # MW\n",
    "TANK_CAPA = 46878 # Kg\n",
    "BATTERY_CAPA = 600 # MWh"
   ]
  },
  {
   "cell_type": "markdown",
   "metadata": {},
   "source": [
    "# Dynamic Programming, simple approach\n",
    "- We denote by $x^s_t$ the state of the system at time $t$, where $x^s_t$ is the current stock in the tank.\n",
    "- To remove complexity, we use a discrete state space, where $x^s_t$ take values by e.g. 1/10th of the tank capacity.\n",
    "- The action at time $t$ is the choice of stock level we want to reach at time $t+1$\n",
    "- The cost function is given by solving the MILP problem over the period $[t,t+1]$ (e.g usually a week)\n",
    "- The dynamic programming equation is given by:\n",
    "$$ V_T(x^s_T) = 0 $$\n",
    "$$ V_t(x^s_t) = \\min_{x^s_{t+1}} \\left\\{ C(x^s_t,x^s_{t+1}) + V_{t+1}(x^s_{t+1}) \\right\\} $$\n",
    "where $C(x^s_t,x^s_{t+1})$ is the cost of reaching $x^s_{t+1}$ from $x^s_t$ over the period $[t,t+1]$ (given by the MILP solver)"
   ]
  },
  {
   "cell_type": "code",
   "execution_count": null,
   "metadata": {},
   "outputs": [],
   "source": [
    "N_State = 10 # State in 10th of the total capacity\n",
    "T = 7 * 24 * 52 # 52 weeks\n",
    "# States of the hydrogen tank\n",
    "states = [i * TANK_CAPA / N_State for i in 0:N_State]\n",
    "# V matix\n",
    "V = zeros(N_State + 1, T)\n",
    "\n",
    "# Solve the problem\n",
    "for t ∈ T-1:-1:1\n",
    "    for xₜ ∈ 1:N_State\n",
    "        min = Inf\n",
    "        for xₜ₊₁ ∈ 1:N_State\n",
    "            output = solve("
   ]
  }
 ],
 "metadata": {
  "kernelspec": {
   "display_name": "Julia 1.10.1",
   "language": "julia",
   "name": "julia-1.10"
  },
  "language_info": {
   "file_extension": ".jl",
   "mimetype": "application/julia",
   "name": "julia",
   "version": "1.10.1"
  }
 },
 "nbformat": 4,
 "nbformat_minor": 2
}
