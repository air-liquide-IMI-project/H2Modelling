{
 "cells": [
  {
   "cell_type": "markdown",
   "metadata": {},
   "source": [
    "# Paramètres <br/>\n",
    "$D$ la demande du client <br/>\n",
    "$PPA_t$ la production du PPA (supposée gratuite) <br/>\n",
    "$p_t$ le prix de l'éléricité sur le marché <br/>\n",
    "$e_{bat}$ l'éfficité de la batterie <br/>\n",
    "$c_{bat}$ la capacité de la batterie <br/>\n",
    "$f_{bat}$ le flux maximal de la batterie <br/>\n",
    "$e_{elec}$ l'éfficité de l'électrolyseur <br/>\n",
    "$c_{elec}$ la capacité de l'électrolyseur <br/>\n",
    "$c_{tank}$ la capacité du réservoir <br/>\n",
    "\n",
    "# Variables <br/>\n",
    "$\\text{charge}_t$ la charge de la batterie à l'heure $t$ (en MWh)<br/>\n",
    "$\\text{prod}_t$ la production de l'électrolyseur à l'heure $t$ (en kg $H_2$)<br/>\n",
    "$\\text{stock}_t$ le stock d'hydrogène dans le reservoir à l'heure $t$ (en kg $H_2$)<br/>\n",
    "$\\text{elec}_t$ la consommation d'élécricité venant de la grille à l'heure $t$ (en MWh) <br/>\n",
    "\n",
    "# Contraintes <br/>\n",
    "\n",
    "Satisfaction de la demande du client : <br/>\n",
    "$\\forall t \\in [|1, T|], \\text{prod}_t + \\text{stock}_t = D_t + \\text{stock}_{t+1}$ <br/>\n",
    "Consomation d'élécricité : <br/>\n",
    "$\\forall t \\in [|1, T|], \\text{elec}_t + \\text{PPA}_t + e_{bat} \\times \\text{charge}_t = e_{elec} \\times \\text{prod}_t + \\text{charge}_{t+1}$ <br/>\n",
    "Contraintes de capacité : <br/>\n",
    "$\\forall t \\in [|1, T|], \\text{charge}_t \\leq c_{bat}$ <br/>\n",
    "$\\forall t \\in [|1, T|], \\text{prod}_t \\times e_{elec} \\leq c_{elec} $ <br/>\n",
    "$\\forall t \\in [|1, T|], \\text{stock}_t \\leq c_{tank} $ <br/>\n",
    "Contraintes de flux : <br/>\n",
    "$\\forall t \\in [|1, T|], |\\text{charge}_t - \\text{charge}_{t+1}| \\leq f_{bat} $ <br/>\n",
    "\n",
    "# Objectif <br/>\n",
    "\n",
    "Minimiser le coût de l'élécricité : <br/>\n",
    "$\\min \\sum_{t=1}^{T} p_t \\times \\text{elec}_t$"
   ]
  },
  {
   "cell_type": "code",
   "execution_count": 1,
   "metadata": {},
   "outputs": [],
   "source": [
    "from pulp import *"
   ]
  },
  {
   "cell_type": "code",
   "execution_count": null,
   "metadata": {},
   "outputs": [],
   "source": [
    "D = [1000]*24\n",
    "PPA = [50] * 18 + [40, 30, 20, 10, 0, 50]\n",
    "Cost_market = [20.79, 17.41, 16.24, 11.9, 9.77, 15.88, 24.88, 29.7, 35.01, 33.95, 29.9, 29.03]\n",
    "Cost_market += [27.07, 26.43, 27.53, 29.05, 31.42, 39.92, 41.3, 41.51, 39.75, 30.13, 30.36, 32.4]\n",
    "CostPPA = 20\n",
    "capex_elec = 1200000 * 0.0004 #(euros/MW)\n",
    "capex_gas_tank = 407\n",
    "capex_battery =  250000 * 0.0002 #actually there are two different cases to deal with\n",
    "Cap_max_elec = 1000 #(MW)\n",
    "Cap_max_bat_flux = 100\n",
    "Cap_max_bat_stock = 400\n",
    "Cap_max_tank_stock = 500\n",
    "efficiency_elec = 0.05 # (Mwh /kg H2)\n",
    "efficiency_bat = 0.9\n",
    "\n",
    "Ener_stored_bat_initial = 0\n",
    "Hydrogen_stored_tank_initial = 0\n"
   ]
  },
  {
   "cell_type": "code",
   "execution_count": null,
   "metadata": {},
   "outputs": [
    {
     "ename": "PulpSolverError",
     "evalue": "Pulp: Error while executing c:\\Users\\33782\\OneDrive\\Documents\\ProjetIMI-AirLiquide\\lib\\site-packages\\pulp\\solverdir\\cbc\\win\\64\\cbc.exe",
     "output_type": "error",
     "traceback": [
      "\u001b[1;31m---------------------------------------------------------------------------\u001b[0m",
      "\u001b[1;31mPulpSolverError\u001b[0m                           Traceback (most recent call last)",
      "Cell \u001b[1;32mIn[56], line 36\u001b[0m\n\u001b[0;32m     32\u001b[0m     probleme \u001b[38;5;241m+\u001b[39m\u001b[38;5;241m=\u001b[39m Ener_stored_bat[i]\u001b[38;5;241m*\u001b[39mefficiency_bat \u001b[38;5;241m==\u001b[39m Ener_PPA[i]\u001b[38;5;241m*\u001b[39mefficiency_bat \u001b[38;5;241m+\u001b[39m Ener_Market[i]\u001b[38;5;241m*\u001b[39mefficiency_bat \u001b[38;5;241m+\u001b[39m Ener_Bat_flux[i]\u001b[38;5;241m-\u001b[39m Ener_used_by_elec[i]\u001b[38;5;241m*\u001b[39mefficiency_bat\n\u001b[0;32m     33\u001b[0m     probleme \u001b[38;5;241m+\u001b[39m\u001b[38;5;241m=\u001b[39m Ener_stored_bat[i] \u001b[38;5;241m<\u001b[39m\u001b[38;5;241m=\u001b[39m Cap_max_bat_stock\n\u001b[1;32m---> 36\u001b[0m \u001b[43mprobleme\u001b[49m\u001b[38;5;241;43m.\u001b[39;49m\u001b[43msolve\u001b[49m\u001b[43m(\u001b[49m\u001b[43m)\u001b[49m\n",
      "File \u001b[1;32mc:\\Users\\33782\\OneDrive\\Documents\\ProjetIMI-AirLiquide\\lib\\site-packages\\pulp\\pulp.py:1883\u001b[0m, in \u001b[0;36mLpProblem.solve\u001b[1;34m(self, solver, **kwargs)\u001b[0m\n\u001b[0;32m   1881\u001b[0m \u001b[38;5;66;03m# time it\u001b[39;00m\n\u001b[0;32m   1882\u001b[0m \u001b[38;5;28mself\u001b[39m\u001b[38;5;241m.\u001b[39mstartClock()\n\u001b[1;32m-> 1883\u001b[0m status \u001b[38;5;241m=\u001b[39m \u001b[43msolver\u001b[49m\u001b[38;5;241;43m.\u001b[39;49m\u001b[43mactualSolve\u001b[49m\u001b[43m(\u001b[49m\u001b[38;5;28;43mself\u001b[39;49m\u001b[43m,\u001b[49m\u001b[43m \u001b[49m\u001b[38;5;241;43m*\u001b[39;49m\u001b[38;5;241;43m*\u001b[39;49m\u001b[43mkwargs\u001b[49m\u001b[43m)\u001b[49m\n\u001b[0;32m   1884\u001b[0m \u001b[38;5;28mself\u001b[39m\u001b[38;5;241m.\u001b[39mstopClock()\n\u001b[0;32m   1885\u001b[0m \u001b[38;5;28mself\u001b[39m\u001b[38;5;241m.\u001b[39mrestoreObjective(wasNone, dummyVar)\n",
      "File \u001b[1;32mc:\\Users\\33782\\OneDrive\\Documents\\ProjetIMI-AirLiquide\\lib\\site-packages\\pulp\\apis\\coin_api.py:112\u001b[0m, in \u001b[0;36mCOIN_CMD.actualSolve\u001b[1;34m(self, lp, **kwargs)\u001b[0m\n\u001b[0;32m    110\u001b[0m \u001b[38;5;28;01mdef\u001b[39;00m \u001b[38;5;21mactualSolve\u001b[39m(\u001b[38;5;28mself\u001b[39m, lp, \u001b[38;5;241m*\u001b[39m\u001b[38;5;241m*\u001b[39mkwargs):\n\u001b[0;32m    111\u001b[0m \u001b[38;5;250m    \u001b[39m\u001b[38;5;124;03m\"\"\"Solve a well formulated lp problem\"\"\"\u001b[39;00m\n\u001b[1;32m--> 112\u001b[0m     \u001b[38;5;28;01mreturn\u001b[39;00m \u001b[38;5;28;43mself\u001b[39;49m\u001b[38;5;241;43m.\u001b[39;49m\u001b[43msolve_CBC\u001b[49m\u001b[43m(\u001b[49m\u001b[43mlp\u001b[49m\u001b[43m,\u001b[49m\u001b[43m \u001b[49m\u001b[38;5;241;43m*\u001b[39;49m\u001b[38;5;241;43m*\u001b[39;49m\u001b[43mkwargs\u001b[49m\u001b[43m)\u001b[49m\n",
      "File \u001b[1;32mc:\\Users\\33782\\OneDrive\\Documents\\ProjetIMI-AirLiquide\\lib\\site-packages\\pulp\\apis\\coin_api.py:188\u001b[0m, in \u001b[0;36mCOIN_CMD.solve_CBC\u001b[1;34m(self, lp, use_mps)\u001b[0m\n\u001b[0;32m    186\u001b[0m     pipe\u001b[38;5;241m.\u001b[39mclose()\n\u001b[0;32m    187\u001b[0m \u001b[38;5;28;01mif\u001b[39;00m \u001b[38;5;129;01mnot\u001b[39;00m os\u001b[38;5;241m.\u001b[39mpath\u001b[38;5;241m.\u001b[39mexists(tmpSol):\n\u001b[1;32m--> 188\u001b[0m     \u001b[38;5;28;01mraise\u001b[39;00m PulpSolverError(\u001b[38;5;124m\"\u001b[39m\u001b[38;5;124mPulp: Error while executing \u001b[39m\u001b[38;5;124m\"\u001b[39m \u001b[38;5;241m+\u001b[39m \u001b[38;5;28mself\u001b[39m\u001b[38;5;241m.\u001b[39mpath)\n\u001b[0;32m    189\u001b[0m (\n\u001b[0;32m    190\u001b[0m     status,\n\u001b[0;32m    191\u001b[0m     values,\n\u001b[1;32m   (...)\u001b[0m\n\u001b[0;32m    195\u001b[0m     sol_status,\n\u001b[0;32m    196\u001b[0m ) \u001b[38;5;241m=\u001b[39m \u001b[38;5;28mself\u001b[39m\u001b[38;5;241m.\u001b[39mreadsol_MPS(tmpSol, lp, vs, variablesNames, constraintsNames)\n\u001b[0;32m    197\u001b[0m lp\u001b[38;5;241m.\u001b[39massignVarsVals(values)\n",
      "\u001b[1;31mPulpSolverError\u001b[0m: Pulp: Error while executing c:\\Users\\33782\\OneDrive\\Documents\\ProjetIMI-AirLiquide\\lib\\site-packages\\pulp\\solverdir\\cbc\\win\\64\\cbc.exe"
     ]
    }
   ],
   "source": [
    "probleme = LpProblem(\"Cost_minimization\", LpMinimize)\n",
    "\n",
    "Ener_PPA = [LpVariable(f\"Ener_PPA{i}\", cat=\"Integer\") for i in range(0, len(D) )]\n",
    "Ener_Market = [LpVariable(f\"Ener_Market{i}\", cat=\"Integer\") for i in range(0, len(D))]\n",
    "Ener_Bat_flux = [LpVariable(f\"Ener_Bat_flux{i}\", cat=\"Integer\") for i in range(0, len(D))]\n",
    "Ener_used_by_elec = [LpVariable(f\"Ener_Bat_flux{i}\", cat=\"Integer\") for i in range(0, len(D))]\n",
    "Ener_stored_bat = [LpVariable(f\"Ener_Bat_flux{i}\", cat=\"Integer\") for i in range(0, len(D))]\n",
    "Hydrogen_stored_tank = [LpVariable(f\"Ener_Bat_flux{i}\", cat=\"Integer\") for i in range(0, len(D))]\n",
    "\n",
    "# Ener_stored_bat[0].setInitialValue(Ener_stored_bat_initial)\n",
    "# Hydrogen_stored_tank[0].setInitialValue(Hydrogen_stored_tank_initial)\n",
    "\n",
    "def cost(Ener_PPA, Ener_Market, Ener_used_by_elec, Ener_stored_bat, Hydrogen_stored_tank):\n",
    "    Cost_energy =  [CostPPA*Ener_PPA[i] + Cost_market[i]*Ener_Market[i] + capex_elec*Ener_used_by_elec[i] for i in range(0, len(D))]\n",
    "    Cost_storage = [capex_battery*Ener_stored_bat[i] + capex_gas_tank*Hydrogen_stored_tank[i] for i in range(0, len(D))]\n",
    "    objective_function = sum(Cost_energy[i] + Cost_storage[i]  for i in range(0, len(D)))\n",
    "    return objective_function\n",
    "\n",
    "# Cost_energy =  [CostPPA*Ener_PPA[i] + Cost_market[i]*Ener_Market[i] + capex_elec*Ener_used_by_elec[i] for i in range(0, len(D))]\n",
    "# Cost_storage = [capex_battery*Ener_stored_bat[i] + capex_gas_tank*Hydrogen_stored_tank[i] for i in range(0, len(D))]\n",
    "# objective_function = sum(Cost_energy[i] + Cost_storage[i]  for i in range(0, len(D)))\n",
    "probleme += cost(Ener_PPA, Ener_Market, Ener_used_by_elec, Ener_stored_bat, Hydrogen_stored_tank)\n",
    "\n",
    "for i in range (0,len(D)):\n",
    "    probleme += D[i]*efficiency_elec  <= Ener_used_by_elec[i]+ Hydrogen_stored_tank[i]*efficiency_elec \n",
    "    probleme += Hydrogen_stored_tank[i]*efficiency_elec == Ener_used_by_elec[i] - D[i]*efficiency_elec \n",
    "    probleme += Ener_PPA[i] <= PPA[i]\n",
    "    probleme += Ener_Bat_flux[i] <= Ener_stored_bat[i]\n",
    "    probleme += Ener_Bat_flux[i] <= Cap_max_bat_flux\n",
    "    probleme += Ener_used_by_elec[i] <= Cap_max_elec\n",
    "    probleme += Ener_used_by_elec[i]*efficiency_bat <= Ener_PPA[i]*efficiency_bat + Ener_Market[i]*efficiency_bat + Ener_Bat_flux[i]\n",
    "    probleme += Ener_stored_bat[i]*efficiency_bat == Ener_PPA[i]*efficiency_bat + Ener_Market[i]*efficiency_bat + Ener_Bat_flux[i]- Ener_used_by_elec[i]*efficiency_bat\n",
    "    probleme += Ener_stored_bat[i] <= Cap_max_bat_stock\n",
    "\n",
    "\n",
    "probleme.solve()\n"
   ]
  }
 ],
 "metadata": {
  "kernelspec": {
   "display_name": ".local",
   "language": "python",
   "name": "python3"
  },
  "language_info": {
   "codemirror_mode": {
    "name": "ipython",
    "version": 3
   },
   "file_extension": ".py",
   "mimetype": "text/x-python",
   "name": "python",
   "nbconvert_exporter": "python",
   "pygments_lexer": "ipython3",
   "version": "3.8.1"
  }
 },
 "nbformat": 4,
 "nbformat_minor": 2
}
