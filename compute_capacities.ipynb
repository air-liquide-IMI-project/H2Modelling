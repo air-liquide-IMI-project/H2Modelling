{
 "cells": [
  {
   "cell_type": "code",
   "execution_count": 30,
   "metadata": {},
   "outputs": [],
   "source": [
    "GC.gc() # Clear up the memory when doing a \"run all\" in the notebook\n",
    "using Plots\n",
    "include(\"src/load_profiles.jl\")\n",
    "include(\"src/solver.jl\");"
   ]
  },
  {
   "cell_type": "code",
   "execution_count": 31,
   "metadata": {},
   "outputs": [
    {
     "name": "stdout",
     "output_type": "stream",
     "text": [
      "Loaded profiles for years: Any[2018, 2014, 2017, 2016, 2015]\n",
      "Length of loaded profiles: [8760, 8760, 8760, 8784, 8760]\n"
     ]
    }
   ],
   "source": [
    "filename = \"profiles.csv\"\n",
    "YEARS = [2014, 2015, 2016, 2017, 2018]\n",
    "if ! @isdefined(time_profiles) || Set(keys(time_profiles)) != Set(YEARS)\n",
    "    time_profiles, wind_profiles, solar_profiles = load_profiles(filename, YEARS, true)\n",
    "end;\n",
    "\n",
    "print(\"Loaded profiles for years: \", keys(time_profiles), \"\\n\")\n",
    "print(\"Length of loaded profiles: \", length.(values(wind_profiles)), \"\\n\")"
   ]
  },
  {
   "cell_type": "code",
   "execution_count": 32,
   "metadata": {},
   "outputs": [],
   "source": [
    "# Default values\n",
    "DEMAND = 1000. # Kg of H2\n",
    "# Battery parameters\n",
    "EBAT = 0.9 # per month discharge\n",
    "FBAT = 100. # MW\n",
    "COST_BAT = 250000 * 0.0002 # € / MWh\n",
    "# Electrolyzer parameters\n",
    "EELEC = 0.050 # MWh / Kg\n",
    "COST_ELEC =  1200000 * 0.0004 # € / MW\n",
    "CAPA_ELEC_UPPER = 1000 # MW\n",
    "# Tank parameters\n",
    "COST_TANK = 407. # € / Kg\n",
    "# Grid parameters\n",
    "PRICE_GRID = 1000. # € / MWh\n",
    "PRICE_CURTAILING = 2000. # € / MWh;\n",
    "PRICE_PENALITY = 0 # € / times changed\n",
    "PRICE_PROD_CHANGE = 1 # € / kg of change in production level\n",
    "# Renewable pricing, from https://atb.nrel.gov/electricity/2022/index\n",
    "# For now : 20 year lifespan, no discount rate + O&M cost per year\n",
    "COST_WIND = 1352 * 1000 / 20 + 43 * 1000 # € / MW\n",
    "COST_SOLAR = 1233 * 1000 / 20 + 23 * 1000 # € / MW\n",
    "# Upper bound on the battery capacity\n",
    "CAPA_BAT_UPPER = 24 * DEMAND * EELEC # MW\n",
    "#Year chosen for the simulation\n",
    "YEAR = 2014;\n"
   ]
  },
  {
   "cell_type": "code",
   "execution_count": 33,
   "metadata": {},
   "outputs": [],
   "source": [
    "prod_plot = plot(size=(1200, 500), legend=:topleft, xlabel=\"Time (h)\", ylabel=\"Production (Kg)\", title=\"Hydrogen, Demand : $DEMAND kg/h\")\n",
    "cons_plot = plot(size=(1200, 500), legend=:topleft, xlabel=\"Time (h)\", ylabel=\"Consumption (MWh)\", title=\"Electricity consumption\")\n",
    "level_bat = plot(size=(1200, 500), legend=:topleft, xlabel=\"Time (h)\", ylabel=\"Battery level (MWh)\", title=\"Battery level\")\n",
    "level_tank = plot(size=(1200, 500), legend=:topleft, xlabel=\"Time (h)\", ylabel=\"Tank level (Kg)\", title=\"Tank level\");"
   ]
  },
  {
   "cell_type": "code",
   "execution_count": 34,
   "metadata": {},
   "outputs": [
    {
     "name": "stdout",
     "output_type": "stream",
     "text": [
      "Set parameter Username\n",
      "Academic license - for non-commercial use only - expires 2025-02-25\n",
      "Adding variables ... \n",
      "Adding constraints ... \n"
     ]
    },
    {
     "name": "stdout",
     "output_type": "stream",
     "text": [
      "Optimizing ...\n"
     ]
    }
   ],
   "source": [
    "wind_capacities = []\n",
    "solar_capacities = []\n",
    "battery_capacities = []\n",
    "tank_capacities = []\n",
    "electro_capacities = []\n",
    "\n",
    "for year in keys(time_profiles)\n",
    "    wind_profile = wind_profiles[year]\n",
    "    solar_profile = solar_profiles[year]\n",
    "    output = solve(\n",
    "        wind_profile, solar_profile, # WIND_PROFILE, SOLAR_PROFILE\n",
    "        DEMAND, # DEMAND\n",
    "        missing, missing, # WIND_CAPA, SOLAR_CAPA, if set to missing, the solver will optimize the capacities\n",
    "        missing, missing, missing, # BAT_SIZE, TANK_SIZE, ELEC_CAPA, if set to missing, the solver will optimize the capacities\n",
    "        PRICE_GRID, PRICE_CURTAILING, # PRICE_GRID, PRICE_CURTAILING\n",
    "        PRICE_PENALITY, PRICE_PROD_CHANGE, #PRICE_PENALITY, PRICE_PROD_CHANGE\n",
    "        CAPA_BAT_UPPER, CAPA_ELEC_UPPER, # CAPA_BAT_UPPER, CAPA_ELEC_UPPER\n",
    "        EBAT, FBAT, EELEC, # EBAT, FBAT, EELEC\n",
    "        COST_ELEC, COST_BAT, COST_TANK, # COST_ELEC, COST_BAT, COST_TANK\n",
    "        COST_WIND, COST_SOLAR, # COST_WIND, COST_SOLAR\n",
    "        0., # No initial charge\n",
    "        0., # No initial stock\n",
    "        missing, # No final charge constraint\n",
    "        missing, # No final stock constraint\n",
    "    );\n",
    "    # Extract the results\n",
    "    battery_capa = trunc(Int64, output[\"battery_capa\"])\n",
    "    tank_capa = trunc(Int64, output[\"tank_capa\"])\n",
    "    electro_capa = trunc(Int64, output[\"electro_capa\"])\n",
    "    wind_capa = trunc(Int64, output[\"wind_capa\"])\n",
    "    solar_capa = trunc(Int64, output[\"solar_capa\"])\n",
    "    prod_out = output[\"prod\"]\n",
    "    charge_out = output[\"charge\"]\n",
    "    stock_out = output[\"stock\"]\n",
    "    elec_out = output[\"elecGrid\"]\n",
    "    curtailment_out = output[\"curtail\"]\n",
    "    consPPA_out = output[\"elecPPA\"];\n",
    "    # Plot the results\n",
    "    plot!(prod_plot, prod_out, label=\"$year, Capa : $(electro_capa / EELEC) kg / h\")\n",
    "    plot!(cons_plot, elec_out, label=\"$year, Grid Import, Wind : $wind_capa MW\")\n",
    "    plot!(cons_plot, -curtailment_out, label=\"$year, Curtailment, Solar : $solar_capa MW\")\n",
    "    plot!(level_bat, charge_out, label=\"$year, Capa : $battery_capa MWh\")\n",
    "    plot!(level_tank, stock_out, label=\"$year, Capa : $tank_capa Kg\")\n",
    "    # Store the results\n",
    "    push!(wind_capacities, wind_capa)\n",
    "    push!(solar_capacities, solar_capa)\n",
    "    push!(battery_capacities, battery_capa)\n",
    "    push!(tank_capacities, tank_capa)\n",
    "    push!(electro_capacities, electro_capa)\n",
    "end;"
   ]
  },
  {
   "cell_type": "code",
   "execution_count": null,
   "metadata": {},
   "outputs": [],
   "source": [
    "prod_plot"
   ]
  },
  {
   "cell_type": "code",
   "execution_count": null,
   "metadata": {},
   "outputs": [],
   "source": [
    "cons_plot"
   ]
  },
  {
   "cell_type": "code",
   "execution_count": null,
   "metadata": {},
   "outputs": [],
   "source": [
    "level_bat"
   ]
  },
  {
   "cell_type": "code",
   "execution_count": null,
   "metadata": {},
   "outputs": [],
   "source": [
    "level_tank"
   ]
  },
  {
   "cell_type": "code",
   "execution_count": null,
   "metadata": {},
   "outputs": [],
   "source": [
    "# Print the capacities\n",
    "println(\"Wind capacities : \", wind_capacities)\n",
    "println(\"Average wind capacity : $(sum(wind_capacities) / length(wind_capacities)) MW\")\n",
    "println(\"Solar capacities : \", solar_capacities)\n",
    "println(\"Average solar capacity : $(sum(solar_capacities) / length(solar_capacities)) MW\")\n",
    "println(\"Battery capacities : \", battery_capacities)\n",
    "println(\"Average battery capacity : $(sum(battery_capacities) / length(battery_capacities)) MWh\")\n",
    "println(\"Tank capacities : \", tank_capacities)\n",
    "println(\"Average tank capacity : $(sum(tank_capacities) / length(tank_capacities)) Kg\")\n",
    "println(\"Electrolyzer capacities : \", electro_capacities)\n",
    "println(\"Average electrolyzer capacity : $(sum(electro_capacities) / length(electro_capacities)) Kg / h\");"
   ]
  }
 ],
 "metadata": {
  "kernelspec": {
   "display_name": "Julia 1.10.1",
   "language": "julia",
   "name": "julia-1.10"
  },
  "language_info": {
   "file_extension": ".jl",
   "mimetype": "application/julia",
   "name": "julia",
   "version": "1.10.1"
  }
 },
 "nbformat": 4,
 "nbformat_minor": 2
}
